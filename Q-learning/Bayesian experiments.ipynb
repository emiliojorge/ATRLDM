{
 "cells": [
  {
   "cell_type": "markdown",
   "metadata": {},
   "source": [
    "# Bayesian Q-learning"
   ]
  },
  {
   "cell_type": "markdown",
   "metadata": {},
   "source": [
    "http://ai.stanford.edu/~nir/Papers/DFR1.pdf"
   ]
  },
  {
   "cell_type": "markdown",
   "metadata": {},
   "source": [
    "# How the uncertainity is modelled ?\n"
   ]
  },
  {
   "cell_type": "markdown",
   "metadata": {},
   "source": [
    "Uncertainity is modeled by keeping a distribution over the rewards for each state-action pair that is updated as more evidence appears. In the paper they suggest this is done via a Normal-gamma distribution."
   ]
  },
  {
   "cell_type": "markdown",
   "metadata": {},
   "source": [
    "# How the actions are selected?\n"
   ]
  },
  {
   "cell_type": "markdown",
   "metadata": {},
   "source": [
    "Actions are selected such that we maximize the Q(s,a) + VPI(s,a) where VPI is the value of perfect information. VPI is given by the expected \"gain\" for each state-action pair and describes how the $\\max_a Q(s,a)$ is expected to change for the given state. There is a nice closed-form of VPI given in the paper available above."
   ]
  },
  {
   "cell_type": "markdown",
   "metadata": {},
   "source": [
    "# How the uncertainities are updated"
   ]
  },
  {
   "cell_type": "markdown",
   "metadata": {},
   "source": []
  },
  {
   "cell_type": "markdown",
   "metadata": {},
   "source": [
    "# Experiments"
   ]
  },
  {
   "cell_type": "code",
   "execution_count": 3,
   "metadata": {
    "collapsed": false
   },
   "outputs": [
    {
     "name": "stdout",
     "output_type": "stream",
     "text": [
      "The autoreload extension is already loaded. To reload it, use:\n",
      "  %reload_ext autoreload\n"
     ]
    }
   ],
   "source": [
    "import numpy as np\n",
    "import gym\n",
    "import time\n",
    "from lake_envs import *\n",
    "import value_iteration\n",
    "import utility\n",
    "import tabQ_learning\n",
    "%load_ext autoreload\n",
    "%autoreload 2\n"
   ]
  },
  {
   "cell_type": "code",
   "execution_count": null,
   "metadata": {
    "collapsed": false
   },
   "outputs": [
    {
     "name": "stdout",
     "output_type": "stream",
     "text": [
      "vpi [8.3377371795616495e-10, 8.3377371795616495e-10, 8.3377371795616495e-10, 8.3377371795616495e-10]\n"
     ]
    },
    {
     "name": "stderr",
     "output_type": "stream",
     "text": [
      "C:\\Users\\jorge\\ATRLDM\\Q-learning\\tabQ_learning.py:163: RuntimeWarning: overflow encountered in double_scalars\n",
      "  p = b**a*np.sqrt(l)/(gamma_fun(a)*np.sqrt(2*np.pi))*tau**(a-1/2)*(\n",
      "C:\\Users\\jorge\\ATRLDM\\Q-learning\\tabQ_learning.py:163: RuntimeWarning: invalid value encountered in double_scalars\n",
      "  p = b**a*np.sqrt(l)/(gamma_fun(a)*np.sqrt(2*np.pi))*tau**(a-1/2)*(\n",
      "C:\\Users\\jorge\\Anaconda3\\lib\\site-packages\\scipy\\integrate\\quadpack.py:356: IntegrationWarning: The occurrence of roundoff error is detected, which prevents \n",
      "  the requested tolerance from being achieved.  The error may be \n",
      "  underestimated.\n",
      "  warnings.warn(msg, IntegrationWarning)\n"
     ]
    }
   ],
   "source": [
    "env = gym.make('Deterministic-4x4-FrozenLake-v0')\n",
    "Q = tabQ_learning.bayesian_Qlearning(env, num_observations = 3*10**3, \n",
    "                                     mu_init=12, lam_init=10, alpha_init=10.05, beta_init=10, \n",
    "                                     action_selection=\"vpi\", update_method=\"mixed\")\n",
    "value_iteration.isQvalueErrorEpsilonClose(env, Q, gamma=0.95, epsilon =0.05)"
   ]
  },
  {
   "cell_type": "code",
   "execution_count": null,
   "metadata": {
    "collapsed": true
   },
   "outputs": [],
   "source": []
  }
 ],
 "metadata": {
  "anaconda-cloud": {},
  "kernelspec": {
   "display_name": "Python [default]",
   "language": "python",
   "name": "python3"
  },
  "language_info": {
   "codemirror_mode": {
    "name": "ipython",
    "version": 3
   },
   "file_extension": ".py",
   "mimetype": "text/x-python",
   "name": "python",
   "nbconvert_exporter": "python",
   "pygments_lexer": "ipython3",
   "version": "3.5.2"
  }
 },
 "nbformat": 4,
 "nbformat_minor": 1
}
