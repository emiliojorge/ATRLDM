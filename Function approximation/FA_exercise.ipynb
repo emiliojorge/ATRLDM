{
 "cells": [
  {
   "cell_type": "markdown",
   "metadata": {},
   "source": [
    "# DQN"
   ]
  },
  {
   "cell_type": "markdown",
   "metadata": {},
   "source": [
    "I have implemented a variant of deep Q-network, with replay-memory, a target network and a 2 layer neural network. Epsilon decreases linearly.\n",
    "For some reason it doesn't really keep up the learning, this could either be due to incorrect hyperparameters or that there is some bug in the code. Something that might help is using clipping on the gradients. "
   ]
  },
  {
   "cell_type": "code",
   "execution_count": 1,
   "metadata": {
    "collapsed": true
   },
   "outputs": [],
   "source": [
    "import gym\n",
    "import numpy as np\n",
    "import matplotlib.pyplot as plt\n",
    "import random\n",
    "from sklearn import svm\n",
    "import math\n",
    "import tensorflow as tf\n",
    "%matplotlib inline"
   ]
  },
  {
   "cell_type": "code",
   "execution_count": 2,
   "metadata": {
    "collapsed": true
   },
   "outputs": [],
   "source": [
    "class RandomAgent:\n",
    "    def __init__(self, env, num_experiments=10, num_episodes=100, num_timesteps=1000):\n",
    "        self.env = env\n",
    "        self.num_experiments=num_experiments\n",
    "        self.num_episodes=num_episodes\n",
    "        self.num_timesteps=num_timesteps\n",
    "    def getAction(self, state):\n",
    "        return self.env.action_space.sample()\n",
    "    def getQValue(self, state):\n",
    "        pass\n",
    "    def update(self, state, action, reward, nextState):\n",
    "        pass\n",
    "    def run(self):\n",
    "        episodic_return = np.zeros((self.num_experiments, self.num_episodes))\n",
    "        for i in range(self.num_experiments):\n",
    "            for j in range(self.num_episodes):\n",
    "                acc_reward = 0\n",
    "                for t in range(self.num_timesteps):\n",
    "                    observation = self.env.reset()\n",
    "                    action = self.getAction(observation)\n",
    "                    nextObservation, reward, done, info = self.env.step(action)\n",
    "                    if done:\n",
    "                        break\n",
    "                    acc_reward += reward\n",
    "                episodic_return[i, j] += acc_reward\n",
    "        return episodic_return"
   ]
  },
  {
   "cell_type": "code",
   "execution_count": 3,
   "metadata": {
    "collapsed": false
   },
   "outputs": [],
   "source": [
    "\n",
    "class PGAgent:\n",
    "    def __init__(self, env, num_experiments=10, num_episodes=100, num_timesteps=1000, \n",
    "                 replay_buffer_size=100000, epsilon=0.05, batch_size=32, lr=0.00001, target_step=1000):\n",
    "        self.env = env\n",
    "        self.num_experiments=num_experiments\n",
    "        self.num_episodes=num_episodes\n",
    "        self.num_timesteps=num_timesteps\n",
    "        self.num_actions = 2\n",
    "        self.replay_buffer_size = replay_buffer_size\n",
    "        self.observation_size = self.env.observation_space.shape[0]\n",
    "        self.epsilon = epsilon\n",
    "        self.replay_buffer = []\n",
    "        self.batch_size = batch_size\n",
    "        self.lr = lr\n",
    "        self.state = tf.placeholder(tf.float32, [None, self.observation_size], name=\"state\")\n",
    "        self.next_state = tf.placeholder(tf.float32, [None, self.observation_size], name=\"next_state\")\n",
    "        self.reward = tf.placeholder(tf.float32, [None], name=\"reward\")\n",
    "        self.action = tf.placeholder(tf.int32, [None], name=\"action\")\n",
    "        self.done = tf.placeholder(tf.float32, [None], name=\"action\")\n",
    "        self.target_step = target_step\n",
    "        def network(input_data, scope, share=False):\n",
    "            with tf.variable_scope(scope):\n",
    "                #w1 = tf.layers.dense(input_data, 16,  name=\"input_layer\", reuse=share)\n",
    "                #w2 = tf.layers.dense(w1, 32, name=\"h1\")\n",
    "                out = tf.layers.dense(input_data, self.num_actions, name=\"h2\", reuse=share)\n",
    "            return out\n",
    "        \n",
    "        self.Q_network = network(self.state, \"network\")\n",
    "        self.Q_target = network(self.next_state, \"target\")\n",
    "        self.Q_double = network(self.next_state, \"network\", share=True)\n",
    "\n",
    "        \n",
    "        \n",
    "        \n",
    "        network_params = [t for t in tf.trainable_variables() if t.name.startswith(\"network\")]\n",
    "        network_params = sorted(network_params, key=lambda v: v.name)\n",
    "        target_params = [t for t in tf.trainable_variables() if t.name.startswith(\"target\")]\n",
    "        target_params = sorted(target_params, key=lambda v: v.name)\n",
    "\n",
    "        update_target = []\n",
    "        for network_v, target_v in zip(network_params, target_params):\n",
    "            op = target_v.assign(network_v)\n",
    "            update_target.append(op)\n",
    "\n",
    "\n",
    "                \n",
    "        self.update_target_op = update_target\n",
    "\n",
    "        #Using done as a float is very hacky\n",
    "        self.loss = tf.reduce_mean(1/2*tf.pow(self.reward + (1.0-self.done)*tf.gather(self.Q_target, tf.argmax(self.Q_double, axis=1),axis=1) - tf.gather(self.Q_network, self.action, axis=1), 2))\n",
    "        \n",
    "        self.optim = tf.train.AdamOptimizer(learning_rate=self.lr).minimize(self.loss)\n",
    "\n",
    "        self.session = tf.Session()\n",
    "        self.session.run(tf.global_variables_initializer())\n",
    "        \n",
    "    \n",
    "        \n",
    "    ### This method will return a sampled action\n",
    "    ### from your policy\n",
    "    def getAction(self, state, epsilon=0.05):\n",
    "        Q = self.getQValues(state)\n",
    "        action = []\n",
    "        for q in Q:\n",
    "            if random.random() < epsilon:\n",
    "                action.append(random.choice(range(self.num_actions)))\n",
    "            else:\n",
    "                action.append(np.argmax(q))\n",
    "        return action\n",
    "        \n",
    "    def getQValues(self, state):\n",
    "        return self.session.run(self.Q_network, feed_dict= {self.state: state})\n",
    "    \n",
    "                \n",
    "    def update_target(self):\n",
    "        self.session.run(self.update_target_op)\n",
    "        \n",
    "    def update(self):\n",
    "        state, action, reward, next_state,done = self.sample_from_buffer(size=self.batch_size)\n",
    "        _, td_loss = self.session.run([self.optim, self.loss], feed_dict={\n",
    "                self.state: state, self.action: action, self.reward: reward, self.next_state: next_state, self.done: done}\n",
    "                )\n",
    "        return td_loss\n",
    "\n",
    "    def add_replay_buffer(self,x):\n",
    "        self.replay_buffer.append(x)\n",
    "        if len(self.replay_buffer)>self.replay_buffer_size:\n",
    "            self.replay_buffer = self.replay_buffer[-self.replay_buffer_size:]\n",
    "            \n",
    "    def sample_from_buffer(self, size=1):\n",
    "        buffer_length = len(self.replay_buffer)\n",
    "        sample = np.random.choice(buffer_length, size)\n",
    "        reward = []\n",
    "        state = []\n",
    "        action = []\n",
    "        next_state = []\n",
    "        done = []\n",
    "        for i in sample:\n",
    "            s, a, r, n_s, d = self.replay_buffer[i]\n",
    "            state.append(s)\n",
    "            reward.append(r)\n",
    "            action.append(a)\n",
    "            next_state.append(n_s)\n",
    "            done.append(d)\n",
    "        \n",
    "        return state, action, reward, next_state, done\n",
    "        \n",
    "    \n",
    "    def step(self, action):\n",
    "        nextObservation = []\n",
    "        reward = []\n",
    "        done = []\n",
    "        for a in action:\n",
    "            n_o, r, d, info = self.env.step(a)\n",
    "            done.append(d)\n",
    "            nextObservation.append(n_o)\n",
    "            reward.append(r)\n",
    "        return nextObservation, reward, done\n",
    "            \n",
    "    def epsilon_anneal(self, iteration, maximum=1., minimum=0.02):\n",
    "        stop_anneal = 0.2*self.num_experiments*self.num_episodes\n",
    "        if iteration > stop_anneal:\n",
    "            return minimum\n",
    "        else:\n",
    "            return minimum + (maximum-minimum)*(1-iteration/stop_anneal)\n",
    "        \n",
    "    def run(self):\n",
    "        episodic_return = np.zeros((self.num_experiments, self.num_episodes))\n",
    "        total_steps=0\n",
    "        losses = []\n",
    "        for i in range(self.num_experiments):\n",
    "            # first collect some MC returns \n",
    "            for j in range(self.num_episodes):\n",
    "                acc_reward = 0\n",
    "                observation = self.env.reset()\n",
    "                for t in range(self.num_timesteps):\n",
    "                    action = self.getAction(np.array([observation]), self.epsilon_anneal(total_steps))\n",
    "                    action = action[0]\n",
    "                    nextObservation, reward, done,  info = self.env.step(action)\n",
    "                    self.add_replay_buffer((observation, action, reward, nextObservation, done*1.0))\n",
    "                    acc_reward += reward\n",
    "                    loss = self.update()\n",
    "                    losses.append(loss)\n",
    "                    total_steps+=1\n",
    "                    if total_steps%self.target_step == 0:\n",
    "                        self.update_target()\n",
    "                    if done:\n",
    "                        break\n",
    "                    observation = nextObservation\n",
    "                episodic_return[i, j] += acc_reward\n",
    "                if j*25%self.num_episodes == 0 and j>0:\n",
    "                    print(j, total_steps, np.mean(episodic_return[i,j-10:j]), losses[-1])\n",
    "        return episodic_return\n",
    "    "
   ]
  },
  {
   "cell_type": "code",
   "execution_count": null,
   "metadata": {
    "collapsed": false,
    "scrolled": false
   },
   "outputs": [
    {
     "name": "stdout",
     "output_type": "stream",
     "text": [
      "\u001b[33mWARN: gym.spaces.Box autodetected dtype as <class 'numpy.float32'>. Please provide explicit dtype.\u001b[0m\n",
      "120 1268 9.3 0.596365\n",
      "240 2393 9.5 0.621442\n",
      "360 3502 9.1 0.706502\n",
      "480 4624 9.0 0.678015\n",
      "600 5735 9.1 0.547701\n",
      "720 6843 9.1 0.642669\n",
      "840 7953 9.1 0.52189\n",
      "960 9071 9.2 0.548892\n",
      "1080 10186 9.2 0.577324\n",
      "1200 11296 9.1 0.598867\n",
      "1320 12416 9.2 0.550863\n",
      "1440 13529 9.1 0.532646\n"
     ]
    }
   ],
   "source": [
    "# pg agent\n",
    "tf.reset_default_graph()\n",
    "env = gym.make(\"CartPole-v0\")\n",
    "ragent = PGAgent(env, num_episodes=3000, num_experiments=1, num_timesteps=200, lr=0.00001, batch_size=32, target_step=500)\n",
    "eps_return = ragent.run()\n",
    "#print (eps_return.shape)\n",
    "#print (np.mean(eps_return, axis=0))\n",
    "plt.plot(np.mean(eps_return, axis=0))\n",
    "#plt.scatter()\n",
    "\n",
    "cumsum_vec = np.cumsum(np.insert(np.mean(eps_return, axis=0), 0, 0)) \n",
    "ma_vec = (cumsum_vec[10:] - cumsum_vec[:-10]) / 10\n",
    "plt.plot(ma_vec)\n",
    "\n",
    "# random agent\n",
    "#env = gym.make(\"CartPole-v0\")\n",
    "#ragent = RandomAgent(env)\n",
    "#eps_return = ragent.run()\n",
    "#print(np.mean(eps_return, axis=0))\n"
   ]
  },
  {
   "cell_type": "code",
   "execution_count": null,
   "metadata": {
    "collapsed": true
   },
   "outputs": [],
   "source": []
  },
  {
   "cell_type": "code",
   "execution_count": null,
   "metadata": {
    "collapsed": true
   },
   "outputs": [],
   "source": []
  },
  {
   "cell_type": "code",
   "execution_count": null,
   "metadata": {
    "collapsed": true
   },
   "outputs": [],
   "source": []
  },
  {
   "cell_type": "code",
   "execution_count": null,
   "metadata": {
    "collapsed": true
   },
   "outputs": [],
   "source": []
  },
  {
   "cell_type": "code",
   "execution_count": null,
   "metadata": {
    "collapsed": true
   },
   "outputs": [],
   "source": []
  },
  {
   "cell_type": "code",
   "execution_count": null,
   "metadata": {
    "collapsed": true
   },
   "outputs": [],
   "source": []
  }
 ],
 "metadata": {
  "anaconda-cloud": {},
  "kernelspec": {
   "display_name": "Python [default]",
   "language": "python",
   "name": "python3"
  },
  "language_info": {
   "codemirror_mode": {
    "name": "ipython",
    "version": 3
   },
   "file_extension": ".py",
   "mimetype": "text/x-python",
   "name": "python",
   "nbconvert_exporter": "python",
   "pygments_lexer": "ipython3",
   "version": "3.5.2"
  }
 },
 "nbformat": 4,
 "nbformat_minor": 2
}
